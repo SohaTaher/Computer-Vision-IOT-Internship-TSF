{
 "cells": [
  {
   "cell_type": "markdown",
   "id": "1036ef70",
   "metadata": {},
   "source": [
    "# Object Detection Using SSD-MobileNetv3\n",
    "## Name: Soha Taher\n",
    "## "
   ]
  },
  {
   "cell_type": "code",
   "execution_count": null,
   "id": "69f15850",
   "metadata": {},
   "outputs": [],
   "source": [
    "import cv2\n",
    "import matplotlib.pyplot as plt"
   ]
  },
  {
   "cell_type": "code",
   "execution_count": null,
   "id": "1a804771",
   "metadata": {},
   "outputs": [],
   "source": [
    "config_file = \"ssd_mobilenet_v3_large_coco_2020_01_14.pbtxt\"\n",
    "frozen_model = 'frozen_inference_graph.pb'"
   ]
  },
  {
   "cell_type": "code",
   "execution_count": null,
   "id": "cdc624b6",
   "metadata": {},
   "outputs": [],
   "source": [
    "model = cv2.dnn_DetectionModel(frozen_model,config_file)"
   ]
  },
  {
   "cell_type": "code",
   "execution_count": null,
   "id": "48812f6e",
   "metadata": {},
   "outputs": [],
   "source": [
    "classLabels = [] \n",
    "file_name =  'labels.txt'\n",
    "\n",
    "fpt = open(file_name, 'rt')\n",
    "try:\n",
    "     classLabels = fpt.read().rstrip('\\n').split('\\n')\n",
    "finally:\n",
    "    fpt.close()"
   ]
  },
  {
   "cell_type": "code",
   "execution_count": null,
   "id": "7173cd59",
   "metadata": {},
   "outputs": [],
   "source": [
    "model.setInputSize(320,320)\n",
    "model.setInputScale(1.0/127.5) \n",
    "model.setInputMean((127.5,127.5,127.5)) \n",
    "model.setInputSwapRB(True)"
   ]
  },
  {
   "cell_type": "markdown",
   "id": "832f87a1",
   "metadata": {},
   "source": [
    "## Reading image"
   ]
  },
  {
   "cell_type": "code",
   "execution_count": null,
   "id": "5dc8c657",
   "metadata": {},
   "outputs": [],
   "source": [
    "img = cv2.imread('test2.jpg')"
   ]
  },
  {
   "cell_type": "code",
   "execution_count": null,
   "id": "d3b7a5fe",
   "metadata": {},
   "outputs": [],
   "source": [
    "ClassIndex, confidece, bbox = model.detect(img, confThreshold=0.5)"
   ]
  },
  {
   "cell_type": "code",
   "execution_count": null,
   "id": "6c036a98",
   "metadata": {},
   "outputs": [],
   "source": [
    "font_scale = 7\n",
    "font = cv2.FONT_HERSHEY_PLAIN\n",
    "for ClassInd, conf, boxes in zip(ClassIndex, confidece, bbox):\n",
    "    cv2.rectangle(img, boxes, (255, 0, 0), 3)\n",
    "    cv2.putText(img, classLabels[(ClassInd-1)],(boxes[0]+10,boxes[1]+30),font, fontScale=font_scale, color=(0, 0, 255), thickness=5)\n"
   ]
  },
  {
   "cell_type": "code",
   "execution_count": null,
   "id": "391ad046",
   "metadata": {},
   "outputs": [],
   "source": [
    "plt.imshow(cv2.cvtColor(img,cv2.COLOR_BGR2RGB))"
   ]
  },
  {
   "cell_type": "markdown",
   "id": "7bcb28e6",
   "metadata": {},
   "source": [
    "## Video"
   ]
  },
  {
   "cell_type": "code",
   "execution_count": null,
   "id": "46fe4f07",
   "metadata": {},
   "outputs": [],
   "source": [
    "cap = cv2.VideoCapture(\"test2.mp4\")\n",
    "\n",
    "if not cap.isOpened():\n",
    "    cap =cv2.VideoCapture(0)\n",
    "if not cap.isOpened():\n",
    "    raise IoError(\"Cannot open video\")\n",
    "\n",
    "font_scale = 2\n",
    "font = cv2.FONT_HERSHEY_PLAIN\n",
    "\n",
    "while True:\n",
    "    ret, frame = cap.read()\n",
    "    ClassIndex, confidece, bbox = model.detect(frame, confThreshold=0.55)\n",
    "    \n",
    "    if (len(ClassIndex)!= 0):\n",
    "        for ClassInd, conf, boxes in zip(ClassIndex, confidece, bbox):\n",
    "            if(ClassInd<=80):\n",
    "                cv2.rectangle(frame, boxes, (255, 0, 0), 2)\n",
    "                cv2.putText(frame, classLabels[(ClassInd-1)],(boxes[0]+10,boxes[1]+30),font, fontScale=font_scale, color=(0, 0, 255), thickness=2)\n",
    "                cv2.imshow('Object Detection' ,frame)\n",
    "                \n",
    "    if cv2.waitKey(2) & 0xFF == ord('a'):\n",
    "        break\n",
    "cap.release()\n",
    "cv2.destroyAllWindows()\n"
   ]
  }
 ],
 "metadata": {
  "kernelspec": {
   "display_name": "Python 3 (ipykernel)",
   "language": "python",
   "name": "python3"
  },
  "language_info": {
   "codemirror_mode": {
    "name": "ipython",
    "version": 3
   },
   "file_extension": ".py",
   "mimetype": "text/x-python",
   "name": "python",
   "nbconvert_exporter": "python",
   "pygments_lexer": "ipython3",
   "version": "3.9.13"
  }
 },
 "nbformat": 4,
 "nbformat_minor": 5
}
